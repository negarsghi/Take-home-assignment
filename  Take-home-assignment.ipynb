{
 "cells": [
  {
   "cell_type": "code",
   "execution_count": 186,
   "id": "eb75b5a6",
   "metadata": {},
   "outputs": [],
   "source": [
    "import networkx as nx\n",
    "import statistics\n",
    "import community as community_louvain\n",
    "import igraph\n",
    "import leidenalg\n",
    "def netgenerator1(N,Mu):\n",
    "    from networkx.generators.community import LFR_benchmark_graph\n",
    "    G=LFR_benchmark_graph(n=N,tau1=2,tau2=1.5,mu=Mu,average_degree=15,max_degree=50,seed=10)\n",
    "    return G\n",
    "\n",
    "def netgenerator2(N,Mu):\n",
    "    from networkx.generators.community import LFR_benchmark_graph\n",
    "    G=LFR_benchmark_graph(n=N,tau1=3,tau2=1.1,mu=Mu,average_degree=15,max_degree=50,seed=10)\n",
    "    return G\n",
    "\n",
    "def CNM(G):\n",
    "    import networkx.algorithms.community as comudet\n",
    "    com1=comudet.greedy_modularity_communities(G)\n",
    "    return com1\n",
    "\n",
    "def Louvain(G):\n",
    "    import community as community_louvain\n",
    "    com2 = community_louvain.best_partition(G)\n",
    "    return com2\n",
    "\n",
    "def Leiden(G):\n",
    "    import igraph\n",
    "    import leidenalg\n",
    "    g=igraph.Graph.from_networkx(G)\n",
    "    com3=leidenalg.find_partition(g, leidenalg.ModularityVertexPartition)\n",
    "    return com3\n",
    "\n",
    "def GN(G):\n",
    "    import networkx as nx\n",
    "    com4=nx.algorithms.community.centrality.girvan_newman(G)\n",
    "    partition4=[]\n",
    "    modul=[]\n",
    "    for c in com4:\n",
    "        partition4.append(list(c))\n",
    "    for parti in partition4:\n",
    "        modul.append(nx.algorithms.community.quality.modularity(G,parti))\n",
    "    return partition4[modul.index(max(modul))],max(modul)\n",
    "\n",
    "def Newman_spectral(G):\n",
    "    import modularity_maximization\n",
    "    import networkx as nx\n",
    "    com5=modularity_maximization.partition(G)\n",
    "    return com5\n",
    "\n",
    "def partition_for_algo(com):\n",
    "    import numpy as np\n",
    "    partition=[]\n",
    "    for i in list(np.unique(list(com.values()))):\n",
    "        nodelist=[]\n",
    "        for k, v in com.items() :\n",
    "            if v==i:\n",
    "                nodelist.append(k)\n",
    "        partition.append(nodelist)\n",
    "    for i in range(len(partition)):\n",
    "        partition[i]=set(partition[i])\n",
    "    return partition"
   ]
  },
  {
   "cell_type": "code",
   "execution_count": 217,
   "id": "282e4a2e",
   "metadata": {
    "scrolled": true
   },
   "outputs": [],
   "source": [
    "modul_average1=[]\n",
    "modul_variance1=[]\n",
    "mu_list=[0.2,0.4,0.6]\n",
    "#100\n",
    "for Mu in mu_list:\n",
    "    mod_CNM=[]\n",
    "    mod_Louvain=[]\n",
    "    mod_Leiden=[]\n",
    "    G=netgenerator1(100,Mu)\n",
    "    for j in range(0,50):\n",
    "        com1=CNM(G)\n",
    "        partition1=[set(x) for x in com1]\n",
    "        mod_CNM.append(nx.algorithms.community.quality.modularity(G,partition1))\n",
    "        com2=Louvain(G)\n",
    "        partition2=partition_for_algo(com2)\n",
    "        mod_Louvain.append(nx.algorithms.community.quality.modularity(G,partition2))\n",
    "        com3=Leiden(G)\n",
    "        partition3=[set(x) for x in com3]\n",
    "        mod_Leiden.append(nx.algorithms.community.quality.modularity(G,partition3))\n",
    "\n",
    "\n",
    "    modul_average1.append([sum(mod_CNM)/50,sum(mod_Louvain)/50,sum(mod_Leiden)/50])\n",
    "    modul_variance1.append([statistics.variance(mod_CNM),statistics.variance(mod_Louvain),statistics.variance(mod_Leiden)])\n",
    "\n",
    "\n"
   ]
  },
  {
   "cell_type": "code",
   "execution_count": 218,
   "id": "963bc2fc",
   "metadata": {},
   "outputs": [
    {
     "data": {
      "text/plain": [
       "[[0.31221080275750657, 0.3499021438852553, 0.35067801318148517],\n",
       " [0.1839801442016126, 0.19633125940567367, 0.20016558478021604],\n",
       " [0.14687666227846718, 0.15853768635838913, 0.16534978434024847]]"
      ]
     },
     "execution_count": 218,
     "metadata": {},
     "output_type": "execute_result"
    }
   ],
   "source": [
    "modul_average1"
   ]
  },
  {
   "cell_type": "code",
   "execution_count": 231,
   "id": "9e3e2fbd",
   "metadata": {},
   "outputs": [],
   "source": [
    "import networkx as nx\n",
    "modul_average2=[]\n",
    "modul_variance2=[]\n",
    "mu_list=[0.2,0.4,0.6]\n",
    "#100\n",
    "for Mu in mu_list:\n",
    "    mod_CNM=[]\n",
    "    mod_Louvain=[]\n",
    "    mod_Leiden=[]\n",
    "    G=netgenerator2(100,Mu)\n",
    "    for j in range(0,50):\n",
    "        com1=CNM(G)\n",
    "        partition1=[set(x) for x in com1]\n",
    "        mod_CNM.append(nx.algorithms.community.quality.modularity(G,partition1))\n",
    "        com2=Louvain(G)\n",
    "        partition2=partition_for_Louvain_algo(com2)\n",
    "        mod_Louvain.append(nx.algorithms.community.quality.modularity(G,partition2))\n",
    "        com3=Leiden(G)\n",
    "        partition3=[set(x) for x in com3]\n",
    "        mod_Leiden.append(nx.algorithms.community.quality.modularity(G,partition3))\n",
    "\n",
    "    modul_average2.append([sum(mod_CNM)/50,sum(mod_Louvain)/50,sum(mod_Leiden)/50])\n",
    "    modul_variance2.append([statistics.variance(mod_CNM),statistics.variance(mod_Louvain),statistics.variance(mod_Leiden)])"
   ]
  },
  {
   "cell_type": "code",
   "execution_count": 232,
   "id": "12c601ee",
   "metadata": {},
   "outputs": [
    {
     "data": {
      "text/plain": [
       "[[0.2942829315206939, 0.3213379355687049, 0.32201202449454214],\n",
       " [0.1791809141797884, 0.19516908503474384, 0.19618788913383833],\n",
       " [0.16394116633739045, 0.17203764514618247, 0.17809616927126798]]"
      ]
     },
     "execution_count": 232,
     "metadata": {},
     "output_type": "execute_result"
    }
   ],
   "source": [
    "modul_average2"
   ]
  },
  {
   "cell_type": "code",
   "execution_count": 189,
   "id": "54f403c1",
   "metadata": {},
   "outputs": [],
   "source": [
    "GN_modul1=[]\n",
    "GN_modul2=[]\n",
    "for Mu in mu_list:\n",
    "    G=netgenerator1(100,Mu)\n",
    "    GN_modul1.append(GN(G)[1])\n",
    "for Mu in mu_list:\n",
    "    G=netgenerator2(100,Mu)\n",
    "    GN_modul2.append(GN(G)[1])"
   ]
  },
  {
   "cell_type": "code",
   "execution_count": 202,
   "id": "d22a25b4",
   "metadata": {},
   "outputs": [
    {
     "data": {
      "text/plain": [
       "[0.26743011540112616, 0.05132274656903485, 0.026332215161445214]"
      ]
     },
     "execution_count": 202,
     "metadata": {},
     "output_type": "execute_result"
    }
   ],
   "source": [
    "GN_modul1"
   ]
  },
  {
   "cell_type": "code",
   "execution_count": 203,
   "id": "7644c7a1",
   "metadata": {},
   "outputs": [
    {
     "data": {
      "text/plain": [
       "[0.20677865258284836, 0.057153255240379265, 0.020010928020413266]"
      ]
     },
     "execution_count": 203,
     "metadata": {},
     "output_type": "execute_result"
    }
   ],
   "source": [
    "GN_modul2"
   ]
  },
  {
   "cell_type": "code",
   "execution_count": 190,
   "id": "85f33f33",
   "metadata": {},
   "outputs": [],
   "source": [
    "Newman_spectral_modul1=[]\n",
    "Newman_spectral_modul2=[]\n",
    "for Mu in mu_list:\n",
    "    G=netgenerator1(100,Mu)\n",
    "    com5=Newman_spectral(G)\n",
    "    partition5=partition_for_algo(com5)\n",
    "    Newman_spectral_modul1.append(nx.algorithms.community.quality.modularity(G,partition5))\n",
    "for Mu in mu_list:\n",
    "    G=netgenerator2(100,Mu)\n",
    "    com5=Newman_spectral(G)\n",
    "    partition5=partition_for_algo(com5)\n",
    "    Newman_spectral_modul2.append(nx.algorithms.community.quality.modularity(G,partition5))"
   ]
  },
  {
   "cell_type": "code",
   "execution_count": 204,
   "id": "7b2f927a",
   "metadata": {},
   "outputs": [
    {
     "data": {
      "text/plain": [
       "[0.3506780131814854, 0.19100154983041712, 0.1674447315309816]"
      ]
     },
     "execution_count": 204,
     "metadata": {},
     "output_type": "execute_result"
    }
   ],
   "source": [
    "Newman_spectral_modul1"
   ]
  },
  {
   "cell_type": "code",
   "execution_count": 205,
   "id": "c6fea100",
   "metadata": {},
   "outputs": [
    {
     "data": {
      "text/plain": [
       "[0.31778720502496727, 0.18987833103802185, 0.18260560612830468]"
      ]
     },
     "execution_count": 205,
     "metadata": {},
     "output_type": "execute_result"
    }
   ],
   "source": [
    "Newman_spectral_modul2"
   ]
  },
  {
   "cell_type": "code",
   "execution_count": 191,
   "id": "39057e1d",
   "metadata": {},
   "outputs": [
    {
     "name": "stdout",
     "output_type": "stream",
     "text": [
      "60.9 ms ± 12.6 ms per loop (mean ± std. dev. of 50 runs, 1 loop each)\n",
      "61.3 ms ± 13.3 ms per loop (mean ± std. dev. of 50 runs, 1 loop each)\n",
      "70.7 ms ± 17.8 ms per loop (mean ± std. dev. of 50 runs, 1 loop each)\n"
     ]
    }
   ],
   "source": [
    "#CNM_running_time__netgenerator1\n",
    "Mu=0.2\n",
    "G=netgenerator1(100,Mu)\n",
    "%timeit -r 50 -n 1 networkx.algorithms.community.greedy_modularity_communities(G)\n",
    "Mu=0.4\n",
    "G=netgenerator1(100,Mu)\n",
    "%timeit -r 50 -n 1 networkx.algorithms.community.greedy_modularity_communities(G)\n",
    "Mu=0.6\n",
    "G=netgenerator1(100,Mu)\n",
    "%timeit -r 50 -n 1 networkx.algorithms.community.greedy_modularity_communities(G)"
   ]
  },
  {
   "cell_type": "code",
   "execution_count": 192,
   "id": "a933acb3",
   "metadata": {},
   "outputs": [
    {
     "name": "stdout",
     "output_type": "stream",
     "text": [
      "79.1 ms ± 25.8 ms per loop (mean ± std. dev. of 50 runs, 1 loop each)\n",
      "55.6 ms ± 10.7 ms per loop (mean ± std. dev. of 50 runs, 1 loop each)\n",
      "55.7 ms ± 10.7 ms per loop (mean ± std. dev. of 50 runs, 1 loop each)\n"
     ]
    }
   ],
   "source": [
    "#CNM_running_time__netgenerator2\n",
    "Mu=0.2\n",
    "G=netgenerator2(100,Mu)\n",
    "%timeit -r 50 -n 1 networkx.algorithms.community.greedy_modularity_communities(G)\n",
    "Mu=0.4\n",
    "G=netgenerator2(100,Mu)\n",
    "%timeit -r 50 -n 1 networkx.algorithms.community.greedy_modularity_communities(G)\n",
    "Mu=0.6\n",
    "G=netgenerator2(100,Mu)\n",
    "%timeit -r 50 -n 1 networkx.algorithms.community.greedy_modularity_communities(G)"
   ]
  },
  {
   "cell_type": "code",
   "execution_count": 193,
   "id": "d273953e",
   "metadata": {},
   "outputs": [
    {
     "name": "stdout",
     "output_type": "stream",
     "text": [
      "25 ms ± 7.51 ms per loop (mean ± std. dev. of 50 runs, 1 loop each)\n",
      "The slowest run took 4.25 times longer than the fastest. This could mean that an intermediate result is being cached.\n",
      "39.5 ms ± 16.4 ms per loop (mean ± std. dev. of 50 runs, 1 loop each)\n",
      "33.7 ms ± 9.22 ms per loop (mean ± std. dev. of 50 runs, 1 loop each)\n"
     ]
    }
   ],
   "source": [
    "#Louvain_running_time__netgenerator1\n",
    "Mu=0.2\n",
    "G=netgenerator1(100,Mu)\n",
    "%timeit -r 50 -n 1 community_louvain.best_partition(G)\n",
    "Mu=0.4\n",
    "G=netgenerator1(100,Mu)\n",
    "%timeit -r 50 -n 1 community_louvain.best_partition(G)\n",
    "Mu=0.6\n",
    "G=netgenerator1(100,Mu)\n",
    "%timeit -r 50 -n 1 community_louvain.best_partition(G)"
   ]
  },
  {
   "cell_type": "code",
   "execution_count": 194,
   "id": "05d78562",
   "metadata": {
    "scrolled": true
   },
   "outputs": [
    {
     "name": "stdout",
     "output_type": "stream",
     "text": [
      "35.3 ms ± 11.1 ms per loop (mean ± std. dev. of 50 runs, 1 loop each)\n",
      "32.1 ms ± 9.35 ms per loop (mean ± std. dev. of 50 runs, 1 loop each)\n",
      "29.2 ms ± 8.82 ms per loop (mean ± std. dev. of 50 runs, 1 loop each)\n"
     ]
    }
   ],
   "source": [
    "#Louvain_running_time__netgenerator2\n",
    "Mu=0.2\n",
    "G=netgenerator2(100,Mu)\n",
    "%timeit -r 50 -n 1 community_louvain.best_partition(G)\n",
    "Mu=0.4\n",
    "G=netgenerator2(100,Mu)\n",
    "%timeit -r 50 -n 1 community_louvain.best_partition(G)\n",
    "Mu=0.6\n",
    "G=netgenerator2(100,Mu)\n",
    "%timeit -r 50 -n 1 community_louvain.best_partition(G)"
   ]
  },
  {
   "cell_type": "code",
   "execution_count": 195,
   "id": "0b7096c3",
   "metadata": {},
   "outputs": [
    {
     "name": "stdout",
     "output_type": "stream",
     "text": [
      "1.46 ms ± 285 µs per loop (mean ± std. dev. of 50 runs, 1 loop each)\n",
      "1.93 ms ± 248 µs per loop (mean ± std. dev. of 50 runs, 1 loop each)\n",
      "2.49 ms ± 550 µs per loop (mean ± std. dev. of 50 runs, 1 loop each)\n"
     ]
    }
   ],
   "source": [
    "#Leiden_running_time__netgenerator1\n",
    "Mu=0.2\n",
    "G=netgenerator1(100,Mu)\n",
    "g=igraph.Graph.from_networkx(G)\n",
    "%timeit -r 50 -n 1 leidenalg.find_partition(g, leidenalg.ModularityVertexPartition)\n",
    "Mu=0.4\n",
    "G=netgenerator1(100,Mu)\n",
    "g=igraph.Graph.from_networkx(G)\n",
    "%timeit -r 50 -n 1 leidenalg.find_partition(g, leidenalg.ModularityVertexPartition)\n",
    "Mu=0.6\n",
    "G=netgenerator1(100,Mu)\n",
    "g=igraph.Graph.from_networkx(G)\n",
    "%timeit -r 50 -n 1 leidenalg.find_partition(g, leidenalg.ModularityVertexPartition)"
   ]
  },
  {
   "cell_type": "code",
   "execution_count": 233,
   "id": "fa3635c1",
   "metadata": {
    "scrolled": true
   },
   "outputs": [
    {
     "name": "stdout",
     "output_type": "stream",
     "text": [
      "1.65 ms ± 307 µs per loop (mean ± std. dev. of 50 runs, 1 loop each)\n",
      "2.01 ms ± 87.7 µs per loop (mean ± std. dev. of 50 runs, 1 loop each)\n",
      "2.27 ms ± 330 µs per loop (mean ± std. dev. of 50 runs, 1 loop each)\n"
     ]
    }
   ],
   "source": [
    "#Leiden_running_time__netgenerator2\n",
    "Mu=0.2\n",
    "G=netgenerator2(100,Mu)\n",
    "g=igraph.Graph.from_networkx(G)\n",
    "%timeit -r 50 -n 1 leidenalg.find_partition(g, leidenalg.ModularityVertexPartition)\n",
    "Mu=0.4\n",
    "G=netgenerator2(100,Mu)\n",
    "g=igraph.Graph.from_networkx(G)\n",
    "%timeit -r 50 -n 1 leidenalg.find_partition(g, leidenalg.ModularityVertexPartition)\n",
    "Mu=0.6\n",
    "G=netgenerator2(100,Mu)\n",
    "g=igraph.Graph.from_networkx(G)\n",
    "%timeit -r 50 -n 1 leidenalg.find_partition(g, leidenalg.ModularityVertexPartition)"
   ]
  },
  {
   "cell_type": "code",
   "execution_count": null,
   "id": "60d19f8f",
   "metadata": {},
   "outputs": [],
   "source": [
    "#GN_running_time__netgenerator1\n",
    "Mu=0.2\n",
    "G=netgenerator1(100,Mu)\n",
    "%timeit -r 50 -n 1 GN(G)\n",
    "Mu=0.4\n",
    "G=netgenerator1(100,Mu)\n",
    "%timeit -r 50 -n 1 GN(G)\n",
    "Mu=0.6\n",
    "G=netgenerator1(100,Mu)\n",
    "%timeit -r 50 -n 1 GN(G)"
   ]
  },
  {
   "cell_type": "code",
   "execution_count": null,
   "id": "725ad184",
   "metadata": {},
   "outputs": [],
   "source": [
    "#GN_running_time__netgenerator2\n",
    "Mu=0.2\n",
    "G=netgenerator2(100,Mu)\n",
    "%timeit -r 50 -n 1 GN(G)\n",
    "Mu=0.4\n",
    "G=netgenerator2(100,Mu)\n",
    "%timeit -r 50 -n 1 GN(G)\n",
    "Mu=0.6\n",
    "G=netgenerator2(100,Mu)\n",
    "%timeit -r 50 -n 1 GN(G)"
   ]
  },
  {
   "cell_type": "code",
   "execution_count": 183,
   "id": "c5d16d9a",
   "metadata": {
    "scrolled": true
   },
   "outputs": [
    {
     "name": "stdout",
     "output_type": "stream",
     "text": [
      "16.4 s ± 738 ms per loop (mean ± std. dev. of 50 runs, 1 loop each)\n",
      "29 s ± 3 s per loop (mean ± std. dev. of 50 runs, 1 loop each)\n",
      "18.9 s ± 437 ms per loop (mean ± std. dev. of 50 runs, 1 loop each)\n"
     ]
    }
   ],
   "source": [
    "#Newman_spectral_running_time__netgenerator1\n",
    "Mu=0.2\n",
    "G=netgenerator1(100,Mu)\n",
    "%timeit -r 50 -n 1 modularity_maximization.partition(G)\n",
    "Mu=0.4\n",
    "G=netgenerator1(100,Mu)\n",
    "%timeit -r 50 -n 1 modularity_maximization.partition(G)\n",
    "Mu=0.6\n",
    "G=netgenerator1(100,Mu)\n",
    "%timeit -r 50 -n 1 modularity_maximization.partition(G)"
   ]
  },
  {
   "cell_type": "code",
   "execution_count": 184,
   "id": "5ad819c0",
   "metadata": {},
   "outputs": [
    {
     "name": "stdout",
     "output_type": "stream",
     "text": [
      "14.6 s ± 528 ms per loop (mean ± std. dev. of 50 runs, 1 loop each)\n",
      "18.6 s ± 459 ms per loop (mean ± std. dev. of 50 runs, 1 loop each)\n",
      "28.4 s ± 617 ms per loop (mean ± std. dev. of 50 runs, 1 loop each)\n"
     ]
    }
   ],
   "source": [
    "#Newman_spectral_running_time__netgenerator2\n",
    "Mu=0.2\n",
    "G=netgenerator2(100,Mu)\n",
    "%timeit -r 50 -n 1 modularity_maximization.partition(G)\n",
    "Mu=0.4\n",
    "G=netgenerator2(100,Mu)\n",
    "%timeit -r 50 -n 1 modularity_maximization.partition(G)\n",
    "Mu=0.6\n",
    "G=netgenerator2(100,Mu)\n",
    "%timeit -r 50 -n 1 modularity_maximization.partition(G)"
   ]
  },
  {
   "cell_type": "code",
   "execution_count": 228,
   "id": "919b7514",
   "metadata": {},
   "outputs": [],
   "source": [
    "import matplotlib.pyplot as plt\n",
    "CNM_plot=[]\n",
    "Louvain_plot=[]\n",
    "Leiden_plot=[]\n",
    "for i in range(0,3):\n",
    "    CNM_plot.append(modul_average1[i][0])\n",
    "for i in range(0,3):\n",
    "    Louvain_plot.append(modul_average1[i][1])\n",
    "for i in range(0,3):\n",
    "    Leiden_plot.append(modul_average1[i][2])\n",
    "GN_plot=GN_modul1\n",
    "Newman_spectral_plot=Newman_spectral_modul1\n",
    "plt.plot(mu_list, CNM_plot, label = \"CNM\")\n",
    "plt.plot(mu_list, Louvain_plot, label = \"Louvain\")\n",
    "plt.plot(mu_list, Leiden_plot, label = \"Leiden\")\n",
    "plt.plot(mu_list, GN_plot, label = \"GN\")\n",
    "plt.plot(mu_list, Newman_spectral_plot, label = \"Newman_spectral\")\n",
    "plt.xlabel('mu')\n",
    "plt.ylabel('Modularity')\n",
    "plt.legend()\n",
    "plt.show()"
   ]
  },
  {
   "cell_type": "code",
   "execution_count": 230,
   "id": "073cb3b0",
   "metadata": {},
   "outputs": [
    {
     "data": {
      "image/png": "[encoded data removed]",
      "text/plain": [
       "<Figure size 432x288 with 1 Axes>"
      ]
     },
     "metadata": {
      "needs_background": "light"
     },
     "output_type": "display_data"
    }
   ],
   "source": []
  },
  {
   "cell_type": "code",
   "execution_count": 234,
   "id": "89cabc79",
   "metadata": {},
   "outputs": [
    {
     "data": {
      "image/png": "[encoded data removed]",
      "text/plain": [
       "<Figure size 432x288 with 1 Axes>"
      ]
     },
     "metadata": {
      "needs_background": "light"
     },
     "output_type": "display_data"
    }
   ],
   "source": [
    "import matplotlib.pyplot as plt\n",
    "CNM_plot=[]\n",
    "Louvain_plot=[]\n",
    "Leiden_plot=[]\n",
    "for i in range(0,3):\n",
    "    CNM_plot.append(modul_average2[i][0])\n",
    "for i in range(0,3):\n",
    "    Louvain_plot.append(modul_average2[i][1])\n",
    "for i in range(0,3):\n",
    "    Leiden_plot.append(modul_average2[i][2])\n",
    "GN_plot=GN_modul2\n",
    "Newman_spectral_plot=Newman_spectral_modul2\n",
    "plt.plot(mu_list, CNM_plot, label = \"CNM\")\n",
    "plt.plot(mu_list, Louvain_plot, label = \"Louvain\")\n",
    "plt.plot(mu_list, Leiden_plot, label = \"Leiden\")\n",
    "plt.plot(mu_list, GN_plot, label = \"GN\")\n",
    "plt.plot(mu_list, Newman_spectral_plot, label = \"Newman_spectral\")\n",
    "plt.xlabel('mu')\n",
    "plt.ylabel('Modularity')\n",
    "plt.legend()\n",
    "plt.show()"
   ]
  },
  {
   "cell_type": "code",
   "execution_count": null,
   "id": "6443180c",
   "metadata": {},
   "outputs": [],
   "source": []
  }
 ],
 "metadata": {
  "kernelspec": {
   "display_name": "Python 3",
   "language": "python",
   "name": "python3"
  },
  "language_info": {
   "codemirror_mode": {
    "name": "ipython",
    "version": 3
   },
   "file_extension": ".py",
   "mimetype": "text/x-python",
   "name": "python",
   "nbconvert_exporter": "python",
   "pygments_lexer": "ipython3",
   "version": "3.7.1"
  }
 },
 "nbformat": 4,
 "nbformat_minor": 5
}
